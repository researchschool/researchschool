{
 "cells": [
  {
   "cell_type": "markdown",
   "metadata": {
    "colab_type": "text",
    "id": "iMVzuEtl-hLr"
   },
   "source": [
    "# Fetch your school rules from the internet\n",
    "This program serves to demonstrate the power of Python."
   ]
  },
  {
   "cell_type": "code",
   "execution_count": 0,
   "metadata": {
    "colab": {},
    "colab_type": "code",
    "id": "XchBzLwZ-n50"
   },
   "outputs": [],
   "source": [
    "import requests\n",
    "\n",
    "# set the website url\n",
    "url = \"https://kungsholmensvastragymnasium.stockholm.se/ordningsregler\"\n",
    "\n",
    "# load the page\n",
    "page = requests.get(url)"
   ]
  },
  {
   "cell_type": "code",
   "execution_count": 0,
   "metadata": {
    "colab": {},
    "colab_type": "code",
    "id": "LDUS3Gdy_WuZ"
   },
   "outputs": [],
   "source": [
    "# use a HTML parser\n",
    "from bs4 import BeautifulSoup\n",
    "\n",
    "soup = BeautifulSoup(page.content)"
   ]
  },
  {
   "cell_type": "code",
   "execution_count": 0,
   "metadata": {
    "colab": {},
    "colab_type": "code",
    "id": "yYSF9QjyAu-3"
   },
   "outputs": [],
   "source": [
    "# extract the correct text from the HTML\n",
    "regler = soup.find('div',{'class': 'field-content'}).text"
   ]
  },
  {
   "cell_type": "code",
   "execution_count": 0,
   "metadata": {
    "colab": {},
    "colab_type": "code",
    "id": "xqN4gDIsBmm1"
   },
   "outputs": [],
   "source": [
    "print(regler)"
   ]
  },
  {
   "cell_type": "markdown",
   "metadata": {
    "colab_type": "text",
    "id": "0cte-ckXCpKE"
   },
   "source": [
    "## Extra\n",
    "Can you write a function that accepts the url and the class name as parameters and gives you back the text?"
   ]
  },
  {
   "cell_type": "code",
   "execution_count": 0,
   "metadata": {
    "colab": {},
    "colab_type": "code",
    "id": "jSJliohuCypr"
   },
   "outputs": [],
   "source": [
    "def scrape_web(url, class_name):\n",
    "  # your code here\n",
    "  return(text)"
   ]
  }
 ],
 "metadata": {
  "colab": {
   "collapsed_sections": [],
   "name": "02_get_school_rules.ipynb",
   "provenance": [],
   "version": "0.3.2"
  },
  "hide_input": false,
  "kernelspec": {
   "display_name": "Python 3",
   "language": "python",
   "name": "python3"
  },
  "language_info": {
   "codemirror_mode": {
    "name": "ipython",
    "version": 3
   },
   "file_extension": ".py",
   "mimetype": "text/x-python",
   "name": "python",
   "nbconvert_exporter": "python",
   "pygments_lexer": "ipython3",
   "version": "3.7.4"
  }
 },
 "nbformat": 4,
 "nbformat_minor": 1
}
