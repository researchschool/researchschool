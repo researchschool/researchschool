{
 "cells": [
  {
   "cell_type": "markdown",
   "metadata": {
    "colab_type": "text",
    "id": "4AgFHpLz0dqC"
   },
   "source": [
    "# Introduction to the Python programming language"
   ]
  },
  {
   "cell_type": "markdown",
   "metadata": {
    "colab_type": "text",
    "id": "UbmZgkgp0sxY"
   },
   "source": [
    "Python is one of many ways to program. In scientific research, people use not only Python, but also R (a statistical programming language), bash (command line), etc.  \n",
    "Learning programming languages is like learning any spoken language: you need to learn the rules, and with time you get better at it. And the more languages you know, the easier it is to learn more!"
   ]
  },
  {
   "cell_type": "markdown",
   "metadata": {},
   "source": [
    "## How to use this notebook?"
   ]
  },
  {
   "cell_type": "markdown",
   "metadata": {},
   "source": [
    "Demonstrate:  \n",
    "\n",
    "- Evaluate a cell\n",
    "- Notebook idling vs running\n",
    "- Switch between command and editing mode\n",
    "- Add cell\n",
    "- Delete a cell (don't!)\n"
   ]
  },
  {
   "cell_type": "markdown",
   "metadata": {
    "colab_type": "text",
    "id": "SHMqAi4oPtTA"
   },
   "source": [
    "## Hello World\n",
    "\n",
    "Try different print statements!"
   ]
  },
  {
   "cell_type": "code",
   "execution_count": 2,
   "metadata": {
    "colab": {},
    "colab_type": "code",
    "id": "7IQAefG_0qnO"
   },
   "outputs": [
    {
     "name": "stdout",
     "output_type": "stream",
     "text": [
      "Hello World!\n"
     ]
    }
   ],
   "source": [
    "print(\"Hello World!\")"
   ]
  },
  {
   "cell_type": "markdown",
   "metadata": {
    "colab_type": "text",
    "id": "zk55x2yvQMBj"
   },
   "source": [
    "## Calculating"
   ]
  },
  {
   "cell_type": "code",
   "execution_count": 0,
   "metadata": {
    "colab": {},
    "colab_type": "code",
    "id": "2bWkDBRUQLT0"
   },
   "outputs": [],
   "source": [
    "2+4"
   ]
  },
  {
   "cell_type": "code",
   "execution_count": 0,
   "metadata": {
    "colab": {},
    "colab_type": "code",
    "id": "nx4w3xtMQP6R"
   },
   "outputs": [],
   "source": [
    "1/7"
   ]
  },
  {
   "cell_type": "markdown",
   "metadata": {
    "colab_type": "text",
    "id": "tSJG3QBoQUFd"
   },
   "source": [
    "What do these statement do?"
   ]
  },
  {
   "cell_type": "code",
   "execution_count": null,
   "metadata": {},
   "outputs": [],
   "source": [
    "10%3"
   ]
  },
  {
   "cell_type": "code",
   "execution_count": null,
   "metadata": {},
   "outputs": [],
   "source": [
    "4**2"
   ]
  },
  {
   "cell_type": "markdown",
   "metadata": {
    "colab_type": "text",
    "id": "73uWBKHuQeyg"
   },
   "source": [
    "## Variables"
   ]
  },
  {
   "cell_type": "markdown",
   "metadata": {
    "colab_type": "text",
    "id": "o1pxs-leQhha"
   },
   "source": [
    "As in your math class, you can use variables to store numbers."
   ]
  },
  {
   "cell_type": "code",
   "execution_count": 0,
   "metadata": {
    "colab": {},
    "colab_type": "code",
    "id": "CBbymdDSQmTI"
   },
   "outputs": [],
   "source": [
    "x = 10\n",
    "print(x)"
   ]
  },
  {
   "cell_type": "code",
   "execution_count": 0,
   "metadata": {
    "colab": {},
    "colab_type": "code",
    "id": "XwxAEapqQrWL"
   },
   "outputs": [],
   "source": [
    "x = 10\n",
    "y = 5\n",
    "\n",
    "z = x + y\n",
    "\n",
    "print(z/3)"
   ]
  },
  {
   "cell_type": "markdown",
   "metadata": {
    "colab_type": "text",
    "id": "9P0agqCQx0uZ"
   },
   "source": [
    "Variables can also store text."
   ]
  },
  {
   "cell_type": "code",
   "execution_count": 0,
   "metadata": {
    "colab": {},
    "colab_type": "code",
    "id": "BGamBjRyx2n1"
   },
   "outputs": [],
   "source": [
    "a = \"KVG\"\n",
    "print(a)"
   ]
  },
  {
   "cell_type": "markdown",
   "metadata": {
    "colab_type": "text",
    "id": "Tvz-TlOeyCuL"
   },
   "source": [
    "Try to mix numbers and texts (strings)."
   ]
  },
  {
   "cell_type": "code",
   "execution_count": 0,
   "metadata": {
    "colab": {},
    "colab_type": "code",
    "id": "I8yk3eGWyE2C"
   },
   "outputs": [],
   "source": [
    "a = \"KVG\"\n",
    "x = 5\n",
    "\n",
    "print(a * x)"
   ]
  },
  {
   "cell_type": "markdown",
   "metadata": {
    "colab_type": "text",
    "id": "Ud9V80OpyQt1"
   },
   "source": [
    "What happens when you try to multiply to strings."
   ]
  },
  {
   "cell_type": "code",
   "execution_count": 0,
   "metadata": {
    "colab": {},
    "colab_type": "code",
    "id": "Ses_wttcyYXY"
   },
   "outputs": [],
   "source": [
    "print(a * a)"
   ]
  },
  {
   "cell_type": "markdown",
   "metadata": {
    "colab_type": "text",
    "id": "UP8CPt9WywLD"
   },
   "source": [
    "If you want to comment your code:"
   ]
  },
  {
   "cell_type": "code",
   "execution_count": 0,
   "metadata": {
    "colab": {},
    "colab_type": "code",
    "id": "UF4Eidmzyyr5"
   },
   "outputs": [],
   "source": [
    "# This is just a comment, which is not executed as code.\n",
    "print(\"This is not a comment...\")"
   ]
  },
  {
   "cell_type": "markdown",
   "metadata": {
    "colab_type": "text",
    "id": "vU1sFo_SzZ0R"
   },
   "source": [
    "## Functions\n",
    "Python delivers some predefined functions that fulfill various tasks."
   ]
  },
  {
   "cell_type": "code",
   "execution_count": 0,
   "metadata": {
    "colab": {},
    "colab_type": "code",
    "id": "BVUOCEqfzlzm"
   },
   "outputs": [],
   "source": [
    "# a function you already know\n",
    "print(\"KVG\")"
   ]
  },
  {
   "cell_type": "code",
   "execution_count": 0,
   "metadata": {
    "colab": {},
    "colab_type": "code",
    "id": "NDawmBGy0Lwu"
   },
   "outputs": [],
   "source": [
    "a = \"KVG\"\n",
    "\n",
    "# a new function within the print function\n",
    "print(len(\"Hello World!\"))\n",
    "print(len(a))"
   ]
  },
  {
   "cell_type": "markdown",
   "metadata": {
    "colab_type": "text",
    "id": "EmHpp28u0fwF"
   },
   "source": [
    "You can of course define your own functions.\n",
    "\n",
    "**Note the indentation!** (tab gives an indent)"
   ]
  },
  {
   "cell_type": "code",
   "execution_count": 0,
   "metadata": {
    "colab": {},
    "colab_type": "code",
    "id": "tl0BPzbN0i7d"
   },
   "outputs": [],
   "source": [
    "# define a function\n",
    "def my_function():\n",
    "    print(\"This is my own function.\")\n",
    "\n",
    "# call the function\n",
    "my_function()"
   ]
  },
  {
   "cell_type": "markdown",
   "metadata": {
    "colab_type": "text",
    "id": "2pYK58Sp02hJ"
   },
   "source": [
    "You can pass arguments to your self-defined function."
   ]
  },
  {
   "cell_type": "code",
   "execution_count": 0,
   "metadata": {
    "colab": {},
    "colab_type": "code",
    "id": "6i3d-kEW0vl9"
   },
   "outputs": [],
   "source": [
    "# define a function with arguments\n",
    "def quote(sentence):\n",
    "    print(\">>\" + sentence + \"<<\")\n",
    "\n",
    "quote(\"This is a quote.\")"
   ]
  },
  {
   "cell_type": "markdown",
   "metadata": {
    "colab_type": "text",
    "id": "nqRfXHxB1XUa"
   },
   "source": [
    "A function can return a value."
   ]
  },
  {
   "cell_type": "code",
   "execution_count": 0,
   "metadata": {
    "colab": {},
    "colab_type": "code",
    "id": "ukKKHFhl1Wol"
   },
   "outputs": [],
   "source": [
    "# define a function with argument and return value\n",
    "def square(a):\n",
    "    b = a * a\n",
    "    return(b)\n",
    "\n",
    "print(square(10))"
   ]
  },
  {
   "cell_type": "code",
   "execution_count": 0,
   "metadata": {
    "colab": {},
    "colab_type": "code",
    "id": "KzVVNEAf1wej"
   },
   "outputs": [],
   "source": [
    "# capture the return value\n",
    "c = square(10)\n",
    "\n",
    "print(\"The result is \" + str(c) + \".\")"
   ]
  },
  {
   "cell_type": "markdown",
   "metadata": {
    "colab_type": "text",
    "id": "rIZwVpRm2ES4"
   },
   "source": [
    "### EXTRA: Variable scope and functions\n",
    "Evaluate the difference of the two following code cells."
   ]
  },
  {
   "cell_type": "code",
   "execution_count": 0,
   "metadata": {
    "colab": {},
    "colab_type": "code",
    "id": "Odtg3cNZ2MLI"
   },
   "outputs": [],
   "source": [
    "eggs = 10\n",
    "\n",
    "def double_eggs(eggs):\n",
    "    return(2 * eggs)\n",
    "\n",
    "print(double_eggs(2))"
   ]
  },
  {
   "cell_type": "code",
   "execution_count": 0,
   "metadata": {
    "colab": {},
    "colab_type": "code",
    "id": "Yys4iw9a2ras"
   },
   "outputs": [],
   "source": [
    "eggs = 10\n",
    "\n",
    "def double_eggs(local_eggs):\n",
    "    return(2 * eggs)\n",
    "\n",
    "print(double_eggs(2))"
   ]
  },
  {
   "cell_type": "markdown",
   "metadata": {
    "colab_type": "text",
    "id": "Awc7vc2126hW"
   },
   "source": [
    "What is a global and what is a local variable?\n",
    "\n",
    "Should you prefer local or global variables?"
   ]
  },
  {
   "cell_type": "markdown",
   "metadata": {
    "colab_type": "text",
    "id": "UkBMYfBA3JT5"
   },
   "source": [
    "## Decisions\n",
    "So far your program runs from the beginning, i.e. the first line, to the end, i.e. the last line. Let's change this."
   ]
  },
  {
   "cell_type": "code",
   "execution_count": 0,
   "metadata": {
    "colab": {},
    "colab_type": "code",
    "id": "_RTAiO0d3Vj-"
   },
   "outputs": [],
   "source": [
    "a = 10\n",
    "\n",
    "if (a == 10):\n",
    "    print(\"a is 10\")\n",
    "else:\n",
    "    print(\"a is not 10\")"
   ]
  },
  {
   "cell_type": "markdown",
   "metadata": {
    "colab_type": "text",
    "id": "WHSTKyho3hEn"
   },
   "source": [
    "Play a little bit with the code above. For example, use other operators or other conditions."
   ]
  },
  {
   "cell_type": "markdown",
   "metadata": {
    "colab_type": "text",
    "id": "VXYNGKVc3rcN"
   },
   "source": [
    "There is more decision stuff."
   ]
  },
  {
   "cell_type": "code",
   "execution_count": 0,
   "metadata": {
    "colab": {},
    "colab_type": "code",
    "id": "FFPBLd413to2"
   },
   "outputs": [],
   "source": [
    "a = 10\n",
    "\n",
    "if (a < 10):\n",
    "    print(\"a is smaller than 10.\")\n",
    "elif (a > 10):\n",
    "    print(\"a is greater than 10.\")\n",
    "else:\n",
    "    print(\"Well, a is 10.\")"
   ]
  },
  {
   "cell_type": "markdown",
   "metadata": {
    "colab_type": "text",
    "id": "anFfcX9o4M74"
   },
   "source": [
    "## Loops"
   ]
  },
  {
   "cell_type": "markdown",
   "metadata": {
    "colab_type": "text",
    "id": "kIJSFeLz4Pao"
   },
   "source": [
    "If you want to repeat a piece of code several times, you can use loop statements.\n",
    "\n",
    "The `for` loop repeats code for a defined number of loops."
   ]
  },
  {
   "cell_type": "code",
   "execution_count": 0,
   "metadata": {
    "colab": {},
    "colab_type": "code",
    "id": "ds8ewG1D4e_t"
   },
   "outputs": [],
   "source": [
    "for i in range(10):\n",
    "    print(i * i)"
   ]
  },
  {
   "cell_type": "code",
   "execution_count": 0,
   "metadata": {
    "colab": {},
    "colab_type": "code",
    "id": "GfXOQmbs43WB"
   },
   "outputs": [],
   "source": [
    "for k in [1, 2, 3]:\n",
    "    print(k)"
   ]
  },
  {
   "cell_type": "markdown",
   "metadata": {
    "colab_type": "text",
    "id": "nOnijv5x4-pj"
   },
   "source": [
    "The `while` loop repeats code while a condition is fulfilled."
   ]
  },
  {
   "cell_type": "code",
   "execution_count": 0,
   "metadata": {
    "colab": {},
    "colab_type": "code",
    "id": "02qY4v0l2nDT"
   },
   "outputs": [],
   "source": [
    "x = 0\n",
    "\n",
    "while (x < 5):\n",
    "    print(x)\n",
    "    x = x + 1"
   ]
  },
  {
   "cell_type": "markdown",
   "metadata": {
    "colab_type": "text",
    "id": "R08XquC13eOT"
   },
   "source": [
    "## Combining decisions and loops"
   ]
  },
  {
   "cell_type": "code",
   "execution_count": 0,
   "metadata": {
    "colab": {},
    "colab_type": "code",
    "id": "sSBw8cSm28Ti"
   },
   "outputs": [],
   "source": [
    "for i in range(1, 10):\n",
    "    if (i % 2 == 0):\n",
    "        print(str(i) + \" is even.\")\n",
    "    else:\n",
    "        print(str(i) + \" is odd.\")"
   ]
  },
  {
   "cell_type": "markdown",
   "metadata": {
    "colab_type": "text",
    "id": "IgcXjIn125ja"
   },
   "source": [
    "## Tasks\n",
    "Write a program that calculates and prints the square of each number between 1 and 10."
   ]
  },
  {
   "cell_type": "code",
   "execution_count": 0,
   "metadata": {
    "colab": {},
    "colab_type": "code",
    "id": "zmttZxWV3vaL"
   },
   "outputs": [],
   "source": []
  },
  {
   "cell_type": "markdown",
   "metadata": {
    "colab_type": "text",
    "id": "lGLdb-ls3v3t"
   },
   "source": [
    "How would you rewrite the function above in order to freeze your browser?"
   ]
  },
  {
   "cell_type": "code",
   "execution_count": 0,
   "metadata": {
    "colab": {},
    "colab_type": "code",
    "id": "dDZCehaJ35nu"
   },
   "outputs": [],
   "source": []
  },
  {
   "cell_type": "markdown",
   "metadata": {
    "colab_type": "text",
    "id": "AiLqBBYx37dV"
   },
   "source": [
    "## External code\n",
    "Sometimes it is very convenient to use code from other. For example, if you want to get random numbers, you do not have to write the function on your own. You can just use existing modules."
   ]
  },
  {
   "cell_type": "code",
   "execution_count": 0,
   "metadata": {
    "colab": {},
    "colab_type": "code",
    "id": "dBH7Zvsi4G7D"
   },
   "outputs": [],
   "source": [
    "# import functions that were written by others\n",
    "import random\n",
    "\n",
    "# run this code several times\n",
    "random.randint(1, 10)"
   ]
  },
  {
   "cell_type": "markdown",
   "metadata": {
    "colab_type": "text",
    "id": "RJ0n2Uv24h3J"
   },
   "source": [
    "## Tasks\n",
    "Write a program that calculates and prints 100 random numbers between 1 and 100."
   ]
  },
  {
   "cell_type": "code",
   "execution_count": 0,
   "metadata": {
    "colab": {},
    "colab_type": "code",
    "id": "wcwCXyqF4nsi"
   },
   "outputs": [],
   "source": []
  },
  {
   "cell_type": "markdown",
   "metadata": {
    "colab_type": "text",
    "id": "5atH-Hxj4ttI"
   },
   "source": [
    "## Lists\n",
    "A list is a data type like a number or a string."
   ]
  },
  {
   "cell_type": "code",
   "execution_count": 0,
   "metadata": {
    "colab": {},
    "colab_type": "code",
    "id": "gUjDuOBu435d"
   },
   "outputs": [],
   "source": [
    "# this creates a simple list\n",
    "l = [1, 2, 3, 4]\n",
    "\n",
    "print(l)\n",
    "print(len(l))"
   ]
  },
  {
   "cell_type": "code",
   "execution_count": 0,
   "metadata": {
    "colab": {},
    "colab_type": "code",
    "id": "XTBLjYRi4-AD"
   },
   "outputs": [],
   "source": [
    "# you can loop through a list\n",
    "for i in l:\n",
    "    print(i)"
   ]
  },
  {
   "cell_type": "code",
   "execution_count": 0,
   "metadata": {
    "colab": {},
    "colab_type": "code",
    "id": "EeQjjJ7w5Pix"
   },
   "outputs": [],
   "source": [
    "# lists can also contain strings\n",
    "string_list = [\"K\", \"V\", \"Gymnasium\"]\n",
    "\n",
    "for s in string_list:\n",
    "    print(s)"
   ]
  },
  {
   "cell_type": "code",
   "execution_count": 0,
   "metadata": {
    "colab": {},
    "colab_type": "code",
    "id": "TqheSAt35gPY"
   },
   "outputs": [],
   "source": [
    "# we can access single elements of a list by an index\n",
    "print(string_list[0])\n",
    "print(string_list[2])"
   ]
  },
  {
   "cell_type": "code",
   "execution_count": 0,
   "metadata": {
    "colab": {},
    "colab_type": "code",
    "id": "T2bhefDG5t6D"
   },
   "outputs": [],
   "source": [
    "# and python also knows negative indices\n",
    "print(string_list[-1])"
   ]
  },
  {
   "cell_type": "code",
   "execution_count": 0,
   "metadata": {
    "colab": {},
    "colab_type": "code",
    "id": "98F9Tu5f50bB"
   },
   "outputs": [],
   "source": [
    "# or index ranges, which is called a list slice\n",
    "print(string_list[0:2])"
   ]
  },
  {
   "cell_type": "markdown",
   "metadata": {
    "colab_type": "text",
    "id": "350J7v5o6OAI"
   },
   "source": [
    "Lists can always be changed on the fly."
   ]
  },
  {
   "cell_type": "code",
   "execution_count": 0,
   "metadata": {
    "colab": {},
    "colab_type": "code",
    "id": "x8zZF61Y6P9o"
   },
   "outputs": [],
   "source": [
    "string_list = [\"K\", \"V\", \"Gymnasium\"]\n",
    "\n",
    "# replace the last list element\n",
    "string_list[2] = \"School\"\n",
    "print(string_list)"
   ]
  },
  {
   "cell_type": "code",
   "execution_count": 0,
   "metadata": {
    "colab": {},
    "colab_type": "code",
    "id": "v1_BxZF56aH1"
   },
   "outputs": [],
   "source": [
    "# delete a list element\n",
    "del string_list[0]\n",
    "\n",
    "print(string_list)"
   ]
  },
  {
   "cell_type": "markdown",
   "metadata": {
    "colab_type": "text",
    "id": "Mx3Tp3q16sSV"
   },
   "source": [
    "### Extra: Play with lists"
   ]
  },
  {
   "cell_type": "code",
   "execution_count": 0,
   "metadata": {
    "colab": {},
    "colab_type": "code",
    "id": "1z0GJiaE6u8q"
   },
   "outputs": [],
   "source": [
    "# concatenate two lists\n",
    "# how can you make one list out of two?\n",
    "\n",
    "list1 = [1, 2, 3]\n",
    "list2 = [4, 5, 6]"
   ]
  },
  {
   "cell_type": "code",
   "execution_count": 0,
   "metadata": {
    "colab": {},
    "colab_type": "code",
    "id": "Q4pmDZbz7AQz"
   },
   "outputs": [],
   "source": [
    "# check if an element is in the list\n",
    "# check if \"K\" is in the list string_list\n"
   ]
  },
  {
   "cell_type": "markdown",
   "metadata": {
    "colab_type": "text",
    "id": "3fQOUwJc7Wmc"
   },
   "source": [
    "## Task\n",
    "Write a program that randomly prints elements of the following list."
   ]
  },
  {
   "cell_type": "code",
   "execution_count": 0,
   "metadata": {
    "colab": {},
    "colab_type": "code",
    "id": "DkLCW3r97eYy"
   },
   "outputs": [],
   "source": [
    "l = [\"Good morning.\",\n",
    "    \"Good afternoon\",\n",
    "    \"Good evening\",\n",
    "    \"Good night\"]\n",
    "\n"
   ]
  },
  {
   "cell_type": "markdown",
   "metadata": {
    "colab_type": "text",
    "id": "gv6jgVQT8FdU"
   },
   "source": [
    "### Extra: Do you know why this two pieces of code behave differently?# "
   ]
  },
  {
   "cell_type": "code",
   "execution_count": null,
   "metadata": {},
   "outputs": [],
   "source": [
    "# piece 1\n",
    "a = 42\n",
    "b = a\n",
    "a = 10\n",
    "\n",
    "print(a)\n",
    "print(b)"
   ]
  },
  {
   "cell_type": "code",
   "execution_count": null,
   "metadata": {},
   "outputs": [],
   "source": [
    "# piece 2\n",
    "a = [1, 2, 3]\n",
    "b = a\n",
    "a[0] = \"error\"\n",
    "\n",
    "print(a)\n",
    "print(b)"
   ]
  }
 ],
 "metadata": {
  "colab": {
   "collapsed_sections": [],
   "name": "01_hello_world.ipynb",
   "provenance": [],
   "version": "0.3.2"
  },
  "hide_input": false,
  "kernelspec": {
   "display_name": "Python 3",
   "language": "python",
   "name": "python3"
  },
  "language_info": {
   "codemirror_mode": {
    "name": "ipython",
    "version": 3
   },
   "file_extension": ".py",
   "mimetype": "text/x-python",
   "name": "python",
   "nbconvert_exporter": "python",
   "pygments_lexer": "ipython3",
   "version": "3.7.4"
  }
 },
 "nbformat": 4,
 "nbformat_minor": 1
}
